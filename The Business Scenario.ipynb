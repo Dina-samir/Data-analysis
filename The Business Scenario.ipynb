{
 "cells": [
  {
   "cell_type": "markdown",
   "metadata": {},
   "source": [
    "The Business Scenario:\n",
    "------------------------------------\n",
    "Freedom Debt Relief’s customers are people who have a substantial amount of debt and because of an unexpected hardship, are no longer able to make their minimum monthly payments.  Upon enrolling in Freedom’s program, customers cease making payments to their creditors and instead make monthly deposits they can afford into a new dedicated bank account.  Over time, the value in this dedicated bank account will grow as they deposit funds each month.  As funds increase, Freedom negotiates one-by-one with each of the client’s creditors to settle their debt, typically at only a fraction of what was originally owed. Once a settlement has been agreed upon on for an individual account, Freedom facilitates payments from the dedicated bank account to the creditor based on the terms of the settlement agreement.  Freedom then collects fees from the client for the individual account that was settled.  Freedom earns fees for each account it successfully negotiates a settlement agreement. Those fees are based on a fixed percentage of the original balance of that account when it was first enrolled in the program.  Because of Freedom’s fee structure, enrolling high debt clients and retaining those clients is important to Freedom’s financial success.  \n",
    "\n",
    "The Initiative:\n",
    "---------------------\n",
    "Starting in 2015, Freedom Debt Relief began to pilot an optional, subscription-based, add-on product to new customers upon enrollment in the program.  We now want to run an analysis to determine the impact of that add-on product.\n"
   ]
  },
  {
   "cell_type": "code",
   "execution_count": 2,
   "metadata": {},
   "outputs": [],
   "source": [
    "import numpy as np\n",
    "import pandas as pd\n",
    "import matplotlib.pyplot as plt\n",
    "import seaborn as sns"
   ]
  },
  {
   "cell_type": "code",
   "execution_count": 4,
   "metadata": {},
   "outputs": [],
   "source": [
    "#Read client and account Data\n",
    "acc_data=pd.read_csv('Accounts.csv')\n",
    "cln_data=pd.read_csv('Clients.csv')"
   ]
  },
  {
   "cell_type": "code",
   "execution_count": 6,
   "metadata": {},
   "outputs": [
    {
     "data": {
      "text/html": [
       "<div>\n",
       "<style scoped>\n",
       "    .dataframe tbody tr th:only-of-type {\n",
       "        vertical-align: middle;\n",
       "    }\n",
       "\n",
       "    .dataframe tbody tr th {\n",
       "        vertical-align: top;\n",
       "    }\n",
       "\n",
       "    .dataframe thead th {\n",
       "        text-align: right;\n",
       "    }\n",
       "</style>\n",
       "<table border=\"1\" class=\"dataframe\">\n",
       "  <thead>\n",
       "    <tr style=\"text-align: right;\">\n",
       "      <th></th>\n",
       "      <th>ClientID</th>\n",
       "      <th>Account</th>\n",
       "      <th>CurrentCreditor</th>\n",
       "      <th>OriginalCreditor</th>\n",
       "      <th>BeginningBalance</th>\n",
       "      <th>SettledFlag</th>\n",
       "      <th>SettlementAmount</th>\n",
       "    </tr>\n",
       "  </thead>\n",
       "  <tbody>\n",
       "    <tr>\n",
       "      <th>0</th>\n",
       "      <td>AFFQB270009</td>\n",
       "      <td>2371827</td>\n",
       "      <td>Creditor G</td>\n",
       "      <td>Creditor G</td>\n",
       "      <td>4652.15</td>\n",
       "      <td>1</td>\n",
       "      <td>2539.9200</td>\n",
       "    </tr>\n",
       "    <tr>\n",
       "      <th>1</th>\n",
       "      <td>AFFQB269127</td>\n",
       "      <td>2375652</td>\n",
       "      <td>Creditor G</td>\n",
       "      <td>Creditor G</td>\n",
       "      <td>531.05</td>\n",
       "      <td>1</td>\n",
       "      <td>370.8515</td>\n",
       "    </tr>\n",
       "    <tr>\n",
       "      <th>2</th>\n",
       "      <td>KJH2514063</td>\n",
       "      <td>2377175</td>\n",
       "      <td>Creditor G</td>\n",
       "      <td>Creditor G</td>\n",
       "      <td>6012.55</td>\n",
       "      <td>1</td>\n",
       "      <td>3295.8065</td>\n",
       "    </tr>\n",
       "    <tr>\n",
       "      <th>3</th>\n",
       "      <td>AFFQB263732</td>\n",
       "      <td>2375455</td>\n",
       "      <td>Creditor H</td>\n",
       "      <td>Creditor H</td>\n",
       "      <td>1069.70</td>\n",
       "      <td>1</td>\n",
       "      <td>619.4000</td>\n",
       "    </tr>\n",
       "    <tr>\n",
       "      <th>4</th>\n",
       "      <td>DAS2517163</td>\n",
       "      <td>2376867</td>\n",
       "      <td>Creditor F</td>\n",
       "      <td>Creditor C</td>\n",
       "      <td>4587.55</td>\n",
       "      <td>1</td>\n",
       "      <td>2258.1500</td>\n",
       "    </tr>\n",
       "  </tbody>\n",
       "</table>\n",
       "</div>"
      ],
      "text/plain": [
       "      ClientID  Account CurrentCreditor OriginalCreditor  BeginningBalance  \\\n",
       "0  AFFQB270009  2371827      Creditor G       Creditor G           4652.15   \n",
       "1  AFFQB269127  2375652      Creditor G       Creditor G            531.05   \n",
       "2   KJH2514063  2377175      Creditor G       Creditor G           6012.55   \n",
       "3  AFFQB263732  2375455      Creditor H       Creditor H           1069.70   \n",
       "4   DAS2517163  2376867      Creditor F       Creditor C           4587.55   \n",
       "\n",
       "   SettledFlag  SettlementAmount  \n",
       "0            1         2539.9200  \n",
       "1            1          370.8515  \n",
       "2            1         3295.8065  \n",
       "3            1          619.4000  \n",
       "4            1         2258.1500  "
      ]
     },
     "execution_count": 6,
     "metadata": {},
     "output_type": "execute_result"
    }
   ],
   "source": [
    "#sample of account data\n",
    "acc_data.head()"
   ]
  },
  {
   "cell_type": "code",
   "execution_count": 4,
   "metadata": {},
   "outputs": [
    {
     "data": {
      "text/html": [
       "<div>\n",
       "<style scoped>\n",
       "    .dataframe tbody tr th:only-of-type {\n",
       "        vertical-align: middle;\n",
       "    }\n",
       "\n",
       "    .dataframe tbody tr th {\n",
       "        vertical-align: top;\n",
       "    }\n",
       "\n",
       "    .dataframe thead th {\n",
       "        text-align: right;\n",
       "    }\n",
       "</style>\n",
       "<table border=\"1\" class=\"dataframe\">\n",
       "  <thead>\n",
       "    <tr style=\"text-align: right;\">\n",
       "      <th></th>\n",
       "      <th>Client ID</th>\n",
       "      <th>Subscription Product</th>\n",
       "      <th>Program Start Date</th>\n",
       "      <th>Date Closed</th>\n",
       "      <th>Status</th>\n",
       "      <th>Client State</th>\n",
       "      <th>Monthly Income</th>\n",
       "      <th>Welcome Call Complete Date</th>\n",
       "    </tr>\n",
       "  </thead>\n",
       "  <tbody>\n",
       "    <tr>\n",
       "      <th>0</th>\n",
       "      <td>BBG2552533</td>\n",
       "      <td>1</td>\n",
       "      <td>1/16/2015</td>\n",
       "      <td>1/0/1900</td>\n",
       "      <td>Client</td>\n",
       "      <td>AR</td>\n",
       "      <td>2850.0</td>\n",
       "      <td>1/7/2015</td>\n",
       "    </tr>\n",
       "    <tr>\n",
       "      <th>1</th>\n",
       "      <td>DHJ2779507</td>\n",
       "      <td>1</td>\n",
       "      <td>6/19/2015</td>\n",
       "      <td>1/0/1900</td>\n",
       "      <td>Client</td>\n",
       "      <td>NY</td>\n",
       "      <td>1140.0</td>\n",
       "      <td>6/11/2015</td>\n",
       "    </tr>\n",
       "    <tr>\n",
       "      <th>2</th>\n",
       "      <td>AFFQB276707</td>\n",
       "      <td>0</td>\n",
       "      <td>1/30/2015</td>\n",
       "      <td>1/0/1900</td>\n",
       "      <td>Client</td>\n",
       "      <td>MI</td>\n",
       "      <td>3325.0</td>\n",
       "      <td>1/12/2015</td>\n",
       "    </tr>\n",
       "    <tr>\n",
       "      <th>3</th>\n",
       "      <td>AFFQB284149</td>\n",
       "      <td>0</td>\n",
       "      <td>3/20/2015</td>\n",
       "      <td>1/0/1900</td>\n",
       "      <td>Client</td>\n",
       "      <td>FL</td>\n",
       "      <td>4045.1</td>\n",
       "      <td>2/24/2015</td>\n",
       "    </tr>\n",
       "    <tr>\n",
       "      <th>4</th>\n",
       "      <td>AFFQB305333</td>\n",
       "      <td>0</td>\n",
       "      <td>6/16/2015</td>\n",
       "      <td>1/0/1900</td>\n",
       "      <td>Client</td>\n",
       "      <td>CA</td>\n",
       "      <td>2945.0</td>\n",
       "      <td>6/4/2015</td>\n",
       "    </tr>\n",
       "  </tbody>\n",
       "</table>\n",
       "</div>"
      ],
      "text/plain": [
       "     Client ID  Subscription Product Program Start Date Date Closed  Status  \\\n",
       "0   BBG2552533                     1          1/16/2015    1/0/1900  Client   \n",
       "1   DHJ2779507                     1          6/19/2015    1/0/1900  Client   \n",
       "2  AFFQB276707                     0          1/30/2015    1/0/1900  Client   \n",
       "3  AFFQB284149                     0          3/20/2015    1/0/1900  Client   \n",
       "4  AFFQB305333                     0          6/16/2015    1/0/1900  Client   \n",
       "\n",
       "  Client State  Monthly Income Welcome Call Complete Date  \n",
       "0           AR          2850.0                   1/7/2015  \n",
       "1           NY          1140.0                  6/11/2015  \n",
       "2           MI          3325.0                  1/12/2015  \n",
       "3           FL          4045.1                  2/24/2015  \n",
       "4           CA          2945.0                   6/4/2015  "
      ]
     },
     "execution_count": 4,
     "metadata": {},
     "output_type": "execute_result"
    }
   ],
   "source": [
    "#sample of client data\n",
    "cln_data.head()"
   ]
  },
  {
   "cell_type": "code",
   "execution_count": 107,
   "metadata": {},
   "outputs": [
    {
     "name": "stdout",
     "output_type": "stream",
     "text": [
      "Number of records in account data:  79860\n",
      "Number of records in client data:  28036\n"
     ]
    }
   ],
   "source": [
    "print(\"Number of records in account data: \",acc_data.shape[0])\n",
    "print(\"Number of records in client data: \",cln_data.shape[0])"
   ]
  },
  {
   "cell_type": "code",
   "execution_count": 120,
   "metadata": {},
   "outputs": [],
   "source": [
    "def count_by_group(data, feature, target):\n",
    "    df = data.groupby([feature, target])[target].agg(['count'])\n",
    "    temp = data.groupby([feature])[target].agg(['count'])\n",
    "    df['pct'] = 100*df.div(temp, level = feature).reset_index()['count'].values\n",
    "    return df.reset_index()\n"
   ]
  },
  {
   "cell_type": "markdown",
   "metadata": {},
   "source": [
    "The following table and graph show the number of clients in every state with thier status:\n",
    "\n",
    "Status classes:\n",
    "\n",
    "o\tClient – Still an active client in the program.\n",
    "\n",
    "o\tCompleted – Successfully graduated from the program.\n",
    "\n",
    "o\tRescission – Client left the program prior to starting.\n",
    "\n",
    "o\tTermination – Client left the program after starting."
   ]
  },
  {
   "cell_type": "code",
   "execution_count": 119,
   "metadata": {},
   "outputs": [
    {
     "data": {
      "text/html": [
       "<div>\n",
       "<style scoped>\n",
       "    .dataframe tbody tr th:only-of-type {\n",
       "        vertical-align: middle;\n",
       "    }\n",
       "\n",
       "    .dataframe tbody tr th {\n",
       "        vertical-align: top;\n",
       "    }\n",
       "\n",
       "    .dataframe thead th {\n",
       "        text-align: right;\n",
       "    }\n",
       "</style>\n",
       "<table border=\"1\" class=\"dataframe\">\n",
       "  <thead>\n",
       "    <tr style=\"text-align: right;\">\n",
       "      <th></th>\n",
       "      <th>Client State</th>\n",
       "      <th>Status</th>\n",
       "      <th>count</th>\n",
       "      <th>pct</th>\n",
       "    </tr>\n",
       "  </thead>\n",
       "  <tbody>\n",
       "    <tr>\n",
       "      <th>0</th>\n",
       "      <td>AK</td>\n",
       "      <td>Client</td>\n",
       "      <td>51</td>\n",
       "      <td>67.105263</td>\n",
       "    </tr>\n",
       "    <tr>\n",
       "      <th>1</th>\n",
       "      <td>AK</td>\n",
       "      <td>Completed</td>\n",
       "      <td>4</td>\n",
       "      <td>5.263158</td>\n",
       "    </tr>\n",
       "    <tr>\n",
       "      <th>2</th>\n",
       "      <td>AK</td>\n",
       "      <td>Rescission</td>\n",
       "      <td>8</td>\n",
       "      <td>10.526316</td>\n",
       "    </tr>\n",
       "    <tr>\n",
       "      <th>3</th>\n",
       "      <td>AK</td>\n",
       "      <td>Terminated</td>\n",
       "      <td>13</td>\n",
       "      <td>17.105263</td>\n",
       "    </tr>\n",
       "    <tr>\n",
       "      <th>4</th>\n",
       "      <td>AL</td>\n",
       "      <td>Client</td>\n",
       "      <td>324</td>\n",
       "      <td>56.544503</td>\n",
       "    </tr>\n",
       "    <tr>\n",
       "      <th>5</th>\n",
       "      <td>AL</td>\n",
       "      <td>Completed</td>\n",
       "      <td>20</td>\n",
       "      <td>3.490401</td>\n",
       "    </tr>\n",
       "    <tr>\n",
       "      <th>6</th>\n",
       "      <td>AL</td>\n",
       "      <td>Rescission</td>\n",
       "      <td>55</td>\n",
       "      <td>9.598604</td>\n",
       "    </tr>\n",
       "  </tbody>\n",
       "</table>\n",
       "</div>"
      ],
      "text/plain": [
       "  Client State      Status  count        pct\n",
       "0           AK      Client     51  67.105263\n",
       "1           AK   Completed      4   5.263158\n",
       "2           AK  Rescission      8  10.526316\n",
       "3           AK  Terminated     13  17.105263\n",
       "4           AL      Client    324  56.544503\n",
       "5           AL   Completed     20   3.490401\n",
       "6           AL  Rescission     55   9.598604"
      ]
     },
     "execution_count": 119,
     "metadata": {},
     "output_type": "execute_result"
    }
   ],
   "source": [
    "#Number of client status in every State\n",
    "count_by_group(cln_data, feature = 'Client State', target = 'Status').head(7)"
   ]
  },
  {
   "cell_type": "code",
   "execution_count": 117,
   "metadata": {},
   "outputs": [
    {
     "data": {
      "image/png": "[encoded data removed]",
      "text/plain": [
       "<Figure size 1224x523.44 with 1 Axes>"
      ]
     },
     "metadata": {},
     "output_type": "display_data"
    }
   ],
   "source": [
    "#Number of client in each state with status\n",
    "data.groupby(['Client State','Status']).size().unstack().plot(kind='bar',stacked=True)\n",
    "plt.show()"
   ]
  },
  {
   "cell_type": "markdown",
   "metadata": {},
   "source": [
    "_______________________________________________________________________________\n",
    "\n",
    "The following table and graph show the relation between Status and Subscription in Product.\n",
    "\n",
    "This is very important to Freedom Financial and will show if the program is beneficial to Freedom Financial."
   ]
  },
  {
   "cell_type": "code",
   "execution_count": 9,
   "metadata": {},
   "outputs": [
    {
     "data": {
      "text/html": [
       "<div>\n",
       "<style scoped>\n",
       "    .dataframe tbody tr th:only-of-type {\n",
       "        vertical-align: middle;\n",
       "    }\n",
       "\n",
       "    .dataframe tbody tr th {\n",
       "        vertical-align: top;\n",
       "    }\n",
       "\n",
       "    .dataframe thead th {\n",
       "        text-align: right;\n",
       "    }\n",
       "</style>\n",
       "<table border=\"1\" class=\"dataframe\">\n",
       "  <thead>\n",
       "    <tr style=\"text-align: right;\">\n",
       "      <th></th>\n",
       "      <th>Status</th>\n",
       "      <th>Subscription Product</th>\n",
       "      <th>count</th>\n",
       "      <th>pct</th>\n",
       "    </tr>\n",
       "  </thead>\n",
       "  <tbody>\n",
       "    <tr>\n",
       "      <th>0</th>\n",
       "      <td>Client</td>\n",
       "      <td>0</td>\n",
       "      <td>9798</td>\n",
       "      <td>52.468673</td>\n",
       "    </tr>\n",
       "    <tr>\n",
       "      <th>1</th>\n",
       "      <td>Client</td>\n",
       "      <td>1</td>\n",
       "      <td>8876</td>\n",
       "      <td>47.531327</td>\n",
       "    </tr>\n",
       "    <tr>\n",
       "      <th>2</th>\n",
       "      <td>Completed</td>\n",
       "      <td>0</td>\n",
       "      <td>703</td>\n",
       "      <td>99.716312</td>\n",
       "    </tr>\n",
       "    <tr>\n",
       "      <th>3</th>\n",
       "      <td>Completed</td>\n",
       "      <td>1</td>\n",
       "      <td>2</td>\n",
       "      <td>0.283688</td>\n",
       "    </tr>\n",
       "    <tr>\n",
       "      <th>4</th>\n",
       "      <td>Rescission</td>\n",
       "      <td>0</td>\n",
       "      <td>1662</td>\n",
       "      <td>74.031180</td>\n",
       "    </tr>\n",
       "    <tr>\n",
       "      <th>5</th>\n",
       "      <td>Rescission</td>\n",
       "      <td>1</td>\n",
       "      <td>583</td>\n",
       "      <td>25.968820</td>\n",
       "    </tr>\n",
       "    <tr>\n",
       "      <th>6</th>\n",
       "      <td>Terminated</td>\n",
       "      <td>0</td>\n",
       "      <td>3897</td>\n",
       "      <td>60.776669</td>\n",
       "    </tr>\n",
       "    <tr>\n",
       "      <th>7</th>\n",
       "      <td>Terminated</td>\n",
       "      <td>1</td>\n",
       "      <td>2515</td>\n",
       "      <td>39.223331</td>\n",
       "    </tr>\n",
       "  </tbody>\n",
       "</table>\n",
       "</div>"
      ],
      "text/plain": [
       "       Status  Subscription Product  count        pct\n",
       "0      Client                     0   9798  52.468673\n",
       "1      Client                     1   8876  47.531327\n",
       "2   Completed                     0    703  99.716312\n",
       "3   Completed                     1      2   0.283688\n",
       "4  Rescission                     0   1662  74.031180\n",
       "5  Rescission                     1    583  25.968820\n",
       "6  Terminated                     0   3897  60.776669\n",
       "7  Terminated                     1   2515  39.223331"
      ]
     },
     "execution_count": 9,
     "metadata": {},
     "output_type": "execute_result"
    }
   ],
   "source": [
    "#Now let see \n",
    "count_by_group(cln_data, feature = 'Status', target = 'Subscription Product')"
   ]
  },
  {
   "cell_type": "code",
   "execution_count": 122,
   "metadata": {},
   "outputs": [
    {
     "data": {
      "image/png": "[encoded data removed]",
      "text/plain": [
       "<Figure size 1224x523.44 with 1 Axes>"
      ]
     },
     "metadata": {},
     "output_type": "display_data"
    }
   ],
   "source": [
    "#Number of clients Subscribe in Product with status\n",
    "data.groupby(['Subscription Product','Status']).size().unstack().plot(kind='bar',stacked=True)\n",
    "plt.show()"
   ]
  },
  {
   "cell_type": "markdown",
   "metadata": {},
   "source": [
    "As we see in the above graph see us Subscription in Product reduce number of Client left the program but with low rate. And this may be beneficial to Freedom Financial."
   ]
  },
  {
   "cell_type": "code",
   "execution_count": 12,
   "metadata": {},
   "outputs": [
    {
     "data": {
      "image/png": "[encoded data removed]",
      "text/plain": [
       "<Figure size 432x288 with 1 Axes>"
      ]
     },
     "metadata": {},
     "output_type": "display_data"
    }
   ],
   "source": [
    "#The distribution of client Status\n",
    "sns.set(style=\"darkgrid\")\n",
    "ax = sns.countplot(x=\"Status\", data=cln_data)"
   ]
  },
  {
   "cell_type": "markdown",
   "metadata": {},
   "source": [
    "The above graph show the distribution of client Status. As we see,the most of  clients are still active in program and the least of clients are completed the program."
   ]
  },
  {
   "cell_type": "code",
   "execution_count": 16,
   "metadata": {},
   "outputs": [
    {
     "data": {
      "image/png": "[encoded data removed]",
      "text/plain": [
       "<Figure size 1224x523.44 with 1 Axes>"
      ]
     },
     "metadata": {},
     "output_type": "display_data"
    }
   ],
   "source": [
    "#The distribution of client State\n",
    "sns.set(style=\"darkgrid\")\n",
    "sns.set(rc={'figure.figsize':(17,7.27)})\n",
    "ax = sns.countplot(x=\"Client State\", data=cln_data)"
   ]
  },
  {
   "cell_type": "markdown",
   "metadata": {},
   "source": [
    "The above graph show the distribution of of client State in all data. as we see, CA state in the most state in number of clients, followed by TX,NY and FL."
   ]
  },
  {
   "cell_type": "code",
   "execution_count": 18,
   "metadata": {},
   "outputs": [
    {
     "data": {
      "text/plain": [
       "count    28036.000000\n",
       "mean      3052.808905\n",
       "std       2202.383115\n",
       "min          0.000000\n",
       "25%       1900.000000\n",
       "50%       2660.000000\n",
       "75%       3800.000000\n",
       "max      95000.000000\n",
       "Name: Monthly Income, dtype: float64"
      ]
     },
     "execution_count": 18,
     "metadata": {},
     "output_type": "execute_result"
    }
   ],
   "source": [
    "#details of Monthly Income in all data\n",
    "cln_data['Monthly Income'].describe()"
   ]
  },
  {
   "cell_type": "code",
   "execution_count": 20,
   "metadata": {},
   "outputs": [
    {
     "data": {
      "image/png": "[encoded data removed]",
      "text/plain": [
       "<Figure size 432x288 with 1 Axes>"
      ]
     },
     "metadata": {
      "needs_background": "light"
     },
     "output_type": "display_data"
    }
   ],
   "source": [
    "#The distribution of client Monthly Income\n",
    "plt.hist(cln_data['Monthly Income'],bins=90)\n",
    "plt.show()"
   ]
  },
  {
   "cell_type": "markdown",
   "metadata": {},
   "source": [
    "The above data and graph show the distribution of of client Monthly Income in all data. as we see, Monthly Income range from  0 to 95000."
   ]
  },
  {
   "cell_type": "code",
   "execution_count": 28,
   "metadata": {},
   "outputs": [
    {
     "data": {
      "image/png": "[encoded data removed]",
      "text/plain": [
       "<Figure size 1224x523.44 with 1 Axes>"
      ]
     },
     "metadata": {},
     "output_type": "display_data"
    }
   ],
   "source": [
    "#The distribution of clients that Settled Flag(account settled or not)\n",
    "sns.set(style=\"darkgrid\")\n",
    "ax = sns.countplot(x=\"SettledFlag\", data=acc_data)\n"
   ]
  },
  {
   "cell_type": "markdown",
   "metadata": {},
   "source": [
    "As we see, there are few number of accounts that have been settled.\n",
    "\n",
    "1:account has been settled\n",
    "\n",
    "0:account has not been settled\n",
    "__________________________________________________________________\n",
    "\n",
    "New, let see:  \n",
    "------------------\n",
    "-Number of accounts that have been settled and have Subscription Product\n",
    "\n",
    "-Number of accounts that have been settled and don't have Subscription Product"
   ]
  },
  {
   "cell_type": "code",
   "execution_count": 42,
   "metadata": {},
   "outputs": [],
   "source": [
    "#we need first to merge columns\n",
    "data = acc_data.merge(cln_data,left_on='ClientID', right_on='Client ID', how='left')"
   ]
  },
  {
   "cell_type": "code",
   "execution_count": 45,
   "metadata": {},
   "outputs": [
    {
     "data": {
      "text/html": [
       "<div>\n",
       "<style scoped>\n",
       "    .dataframe tbody tr th:only-of-type {\n",
       "        vertical-align: middle;\n",
       "    }\n",
       "\n",
       "    .dataframe tbody tr th {\n",
       "        vertical-align: top;\n",
       "    }\n",
       "\n",
       "    .dataframe thead th {\n",
       "        text-align: right;\n",
       "    }\n",
       "</style>\n",
       "<table border=\"1\" class=\"dataframe\">\n",
       "  <thead>\n",
       "    <tr style=\"text-align: right;\">\n",
       "      <th></th>\n",
       "      <th>SettledFlag</th>\n",
       "      <th>Subscription Product</th>\n",
       "      <th>count</th>\n",
       "      <th>pct</th>\n",
       "    </tr>\n",
       "  </thead>\n",
       "  <tbody>\n",
       "    <tr>\n",
       "      <th>0</th>\n",
       "      <td>0</td>\n",
       "      <td>0</td>\n",
       "      <td>36604</td>\n",
       "      <td>57.315546</td>\n",
       "    </tr>\n",
       "    <tr>\n",
       "      <th>1</th>\n",
       "      <td>0</td>\n",
       "      <td>1</td>\n",
       "      <td>27260</td>\n",
       "      <td>42.684454</td>\n",
       "    </tr>\n",
       "    <tr>\n",
       "      <th>2</th>\n",
       "      <td>1</td>\n",
       "      <td>0</td>\n",
       "      <td>9410</td>\n",
       "      <td>58.827207</td>\n",
       "    </tr>\n",
       "    <tr>\n",
       "      <th>3</th>\n",
       "      <td>1</td>\n",
       "      <td>1</td>\n",
       "      <td>6586</td>\n",
       "      <td>41.172793</td>\n",
       "    </tr>\n",
       "  </tbody>\n",
       "</table>\n",
       "</div>"
      ],
      "text/plain": [
       "   SettledFlag  Subscription Product  count        pct\n",
       "0            0                     0  36604  57.315546\n",
       "1            0                     1  27260  42.684454\n",
       "2            1                     0   9410  58.827207\n",
       "3            1                     1   6586  41.172793"
      ]
     },
     "execution_count": 45,
     "metadata": {},
     "output_type": "execute_result"
    }
   ],
   "source": [
    "#Now lets see, Subscription in product vs SettledFlag\n",
    "count_by_group(data, feature = 'SettledFlag', target = 'Subscription Product')"
   ]
  },
  {
   "cell_type": "markdown",
   "metadata": {},
   "source": [
    "From the above table we see that:\n",
    "\n",
    "Number of accounts have been settled and subscribe in Product are 6586.\n",
    "\n",
    "Number of accounts have been settled and not subscribe in Product are 9410. \n",
    "\n",
    "Number of accounts have been not settled and subscribe in Product are 27260. \n",
    "\n",
    "Number of accounts have been not settled and not subscribe in Product are 36604. \n",
    "_______________________________________________________________________________\n",
    "\n",
    "--The number of acounts that not subscribe in this program and have been settled is bigger, so may be this program is not very beneficial to customers.\n",
    "\n",
    "--The below graph illustrate more about the relation between SettledFlag and Subscription in Product.\n"
   ]
  },
  {
   "cell_type": "code",
   "execution_count": 52,
   "metadata": {},
   "outputs": [
    {
     "data": {
      "image/png": "[encoded data removed]",
      "text/plain": [
       "<Figure size 1224x523.44 with 1 Axes>"
      ]
     },
     "metadata": {},
     "output_type": "display_data"
    }
   ],
   "source": [
    "data.groupby(['SettledFlag','Subscription Product']).size().unstack().plot(kind='bar',stacked=True)\n",
    "plt.show()"
   ]
  },
  {
   "cell_type": "markdown",
   "metadata": {},
   "source": [
    "--The below graph illustrate the relation between Settled account and Status. \n"
   ]
  },
  {
   "cell_type": "code",
   "execution_count": 105,
   "metadata": {},
   "outputs": [
    {
     "data": {
      "image/png": "[encoded data removed]",
      "text/plain": [
       "<Figure size 1224x523.44 with 1 Axes>"
      ]
     },
     "metadata": {},
     "output_type": "display_data"
    }
   ],
   "source": [
    "data.groupby(['SettledFlag','Status']).size().unstack().plot(kind='bar',stacked=True)\n",
    "plt.show()"
   ]
  },
  {
   "cell_type": "code",
   "execution_count": 62,
   "metadata": {},
   "outputs": [
    {
     "data": {
      "text/html": [
       "<div>\n",
       "<style scoped>\n",
       "    .dataframe tbody tr th:only-of-type {\n",
       "        vertical-align: middle;\n",
       "    }\n",
       "\n",
       "    .dataframe tbody tr th {\n",
       "        vertical-align: top;\n",
       "    }\n",
       "\n",
       "    .dataframe thead th {\n",
       "        text-align: right;\n",
       "    }\n",
       "</style>\n",
       "<table border=\"1\" class=\"dataframe\">\n",
       "  <thead>\n",
       "    <tr style=\"text-align: right;\">\n",
       "      <th></th>\n",
       "      <th>ClientID</th>\n",
       "      <th>Account</th>\n",
       "      <th>CurrentCreditor</th>\n",
       "      <th>OriginalCreditor</th>\n",
       "      <th>BeginningBalance</th>\n",
       "      <th>SettledFlag</th>\n",
       "      <th>SettlementAmount</th>\n",
       "      <th>Client ID</th>\n",
       "      <th>Subscription Product</th>\n",
       "      <th>Program Start Date</th>\n",
       "      <th>Date Closed</th>\n",
       "      <th>Status</th>\n",
       "      <th>Client State</th>\n",
       "      <th>Monthly Income</th>\n",
       "      <th>Welcome Call Complete Date</th>\n",
       "    </tr>\n",
       "  </thead>\n",
       "  <tbody>\n",
       "    <tr>\n",
       "      <th>0</th>\n",
       "      <td>AFFQB270009</td>\n",
       "      <td>2371827</td>\n",
       "      <td>Creditor G</td>\n",
       "      <td>Creditor G</td>\n",
       "      <td>4652.15</td>\n",
       "      <td>1</td>\n",
       "      <td>2539.92</td>\n",
       "      <td>AFFQB270009</td>\n",
       "      <td>0</td>\n",
       "      <td>1/15/2015</td>\n",
       "      <td>1/0/1900</td>\n",
       "      <td>Client</td>\n",
       "      <td>MD</td>\n",
       "      <td>2375.0</td>\n",
       "      <td>11/26/2014</td>\n",
       "    </tr>\n",
       "    <tr>\n",
       "      <th>58188</th>\n",
       "      <td>AFFQB270009</td>\n",
       "      <td>2371828</td>\n",
       "      <td>Creditor G</td>\n",
       "      <td>Creditor G</td>\n",
       "      <td>2114.70</td>\n",
       "      <td>0</td>\n",
       "      <td>NaN</td>\n",
       "      <td>AFFQB270009</td>\n",
       "      <td>0</td>\n",
       "      <td>1/15/2015</td>\n",
       "      <td>1/0/1900</td>\n",
       "      <td>Client</td>\n",
       "      <td>MD</td>\n",
       "      <td>2375.0</td>\n",
       "      <td>11/26/2014</td>\n",
       "    </tr>\n",
       "    <tr>\n",
       "      <th>58189</th>\n",
       "      <td>AFFQB270009</td>\n",
       "      <td>2371822</td>\n",
       "      <td>Creditor G</td>\n",
       "      <td>Creditor G</td>\n",
       "      <td>10856.60</td>\n",
       "      <td>0</td>\n",
       "      <td>NaN</td>\n",
       "      <td>AFFQB270009</td>\n",
       "      <td>0</td>\n",
       "      <td>1/15/2015</td>\n",
       "      <td>1/0/1900</td>\n",
       "      <td>Client</td>\n",
       "      <td>MD</td>\n",
       "      <td>2375.0</td>\n",
       "      <td>11/26/2014</td>\n",
       "    </tr>\n",
       "    <tr>\n",
       "      <th>58190</th>\n",
       "      <td>AFFQB270009</td>\n",
       "      <td>2371823</td>\n",
       "      <td>Creditor B</td>\n",
       "      <td>Creditor B</td>\n",
       "      <td>9756.50</td>\n",
       "      <td>0</td>\n",
       "      <td>NaN</td>\n",
       "      <td>AFFQB270009</td>\n",
       "      <td>0</td>\n",
       "      <td>1/15/2015</td>\n",
       "      <td>1/0/1900</td>\n",
       "      <td>Client</td>\n",
       "      <td>MD</td>\n",
       "      <td>2375.0</td>\n",
       "      <td>11/26/2014</td>\n",
       "    </tr>\n",
       "    <tr>\n",
       "      <th>58191</th>\n",
       "      <td>AFFQB270009</td>\n",
       "      <td>2371824</td>\n",
       "      <td>Creditor C</td>\n",
       "      <td>Creditor C</td>\n",
       "      <td>7151.60</td>\n",
       "      <td>0</td>\n",
       "      <td>NaN</td>\n",
       "      <td>AFFQB270009</td>\n",
       "      <td>0</td>\n",
       "      <td>1/15/2015</td>\n",
       "      <td>1/0/1900</td>\n",
       "      <td>Client</td>\n",
       "      <td>MD</td>\n",
       "      <td>2375.0</td>\n",
       "      <td>11/26/2014</td>\n",
       "    </tr>\n",
       "    <tr>\n",
       "      <th>58192</th>\n",
       "      <td>AFFQB270009</td>\n",
       "      <td>2371826</td>\n",
       "      <td>Creditor G</td>\n",
       "      <td>Creditor G</td>\n",
       "      <td>4675.90</td>\n",
       "      <td>0</td>\n",
       "      <td>NaN</td>\n",
       "      <td>AFFQB270009</td>\n",
       "      <td>0</td>\n",
       "      <td>1/15/2015</td>\n",
       "      <td>1/0/1900</td>\n",
       "      <td>Client</td>\n",
       "      <td>MD</td>\n",
       "      <td>2375.0</td>\n",
       "      <td>11/26/2014</td>\n",
       "    </tr>\n",
       "  </tbody>\n",
       "</table>\n",
       "</div>"
      ],
      "text/plain": [
       "          ClientID  Account CurrentCreditor OriginalCreditor  \\\n",
       "0      AFFQB270009  2371827      Creditor G       Creditor G   \n",
       "58188  AFFQB270009  2371828      Creditor G       Creditor G   \n",
       "58189  AFFQB270009  2371822      Creditor G       Creditor G   \n",
       "58190  AFFQB270009  2371823      Creditor B       Creditor B   \n",
       "58191  AFFQB270009  2371824      Creditor C       Creditor C   \n",
       "58192  AFFQB270009  2371826      Creditor G       Creditor G   \n",
       "\n",
       "       BeginningBalance  SettledFlag  SettlementAmount    Client ID  \\\n",
       "0               4652.15            1           2539.92  AFFQB270009   \n",
       "58188           2114.70            0               NaN  AFFQB270009   \n",
       "58189          10856.60            0               NaN  AFFQB270009   \n",
       "58190           9756.50            0               NaN  AFFQB270009   \n",
       "58191           7151.60            0               NaN  AFFQB270009   \n",
       "58192           4675.90            0               NaN  AFFQB270009   \n",
       "\n",
       "       Subscription Product Program Start Date Date Closed  Status  \\\n",
       "0                         0          1/15/2015    1/0/1900  Client   \n",
       "58188                     0          1/15/2015    1/0/1900  Client   \n",
       "58189                     0          1/15/2015    1/0/1900  Client   \n",
       "58190                     0          1/15/2015    1/0/1900  Client   \n",
       "58191                     0          1/15/2015    1/0/1900  Client   \n",
       "58192                     0          1/15/2015    1/0/1900  Client   \n",
       "\n",
       "      Client State  Monthly Income Welcome Call Complete Date  \n",
       "0               MD          2375.0                 11/26/2014  \n",
       "58188           MD          2375.0                 11/26/2014  \n",
       "58189           MD          2375.0                 11/26/2014  \n",
       "58190           MD          2375.0                 11/26/2014  \n",
       "58191           MD          2375.0                 11/26/2014  \n",
       "58192           MD          2375.0                 11/26/2014  "
      ]
     },
     "execution_count": 62,
     "metadata": {},
     "output_type": "execute_result"
    }
   ],
   "source": [
    "#Each client may has multiple accounts. \n",
    "#These are accounts for client with id=AFFQB270009 \n",
    "data[data['ClientID']=='AFFQB270009']"
   ]
  },
  {
   "cell_type": "markdown",
   "metadata": {},
   "source": [
    "This graph illustrate accounts to be settle or not in accounts that have Subscription in product."
   ]
  },
  {
   "cell_type": "code",
   "execution_count": 109,
   "metadata": {},
   "outputs": [
    {
     "data": {
      "text/plain": [
       "<matplotlib.axes._subplots.AxesSubplot at 0x1c9a8e87978>"
      ]
     },
     "execution_count": 109,
     "metadata": {},
     "output_type": "execute_result"
    },
    {
     "data": {
      "image/png": "[encoded data removed]",
      "text/plain": [
       "<Figure size 1224x523.44 with 1 Axes>"
      ]
     },
     "metadata": {},
     "output_type": "display_data"
    }
   ],
   "source": [
    "data[data['Subscription Product']==1].groupby(['SettledFlag'])['ClientID'].agg(['count']).plot(kind='bar')"
   ]
  },
  {
   "cell_type": "markdown",
   "metadata": {},
   "source": [
    "This graph illustrate accounts to be settle or not in accounts that not have Subscription in product."
   ]
  },
  {
   "cell_type": "code",
   "execution_count": 110,
   "metadata": {},
   "outputs": [
    {
     "data": {
      "text/plain": [
       "<matplotlib.axes._subplots.AxesSubplot at 0x1c9aa2beb70>"
      ]
     },
     "execution_count": 110,
     "metadata": {},
     "output_type": "execute_result"
    },
    {
     "data": {
      "image/png": "[encoded data removed]",
      "text/plain": [
       "<Figure size 1224x523.44 with 1 Axes>"
      ]
     },
     "metadata": {},
     "output_type": "display_data"
    }
   ],
   "source": [
    "data[data['Subscription Product']==0].groupby(['SettledFlag'])['ClientID'].agg(['count']).plot(kind='bar')"
   ]
  },
  {
   "cell_type": "markdown",
   "metadata": {},
   "source": [
    "Now, let see what is happend to Settled accounts if client has Subscription Product or not has Subscription Product?. \n",
    "\n",
    "By groub every client accounts and calculate ratio of his accounts to be Settled if he has Subscription Product. \n",
    "After obtain all ratios from all clients, calculate the ratio of all clients has Subscription Product.\n",
    "\n",
    "Each client have many accounts, he has some Settled accounts and some not,using groub by to sum all SettledFlag that is 0 for not Settled accounts and 1 for Settled accounts and divide the result by count of all his accounts.\n",
    "\n",
    "After obtain ratio for every client to accounts to be Settled, we will sum all ratios and divide the result on number client records.\n",
    "\n",
    "EX: if client have 5 accounts and one Settled account . The ratio will be 1/5.\n",
    "say all number of clients have Subscription Product is 1000. we will sum all ratios these clients and divide by 1000. \n"
   ]
  },
  {
   "cell_type": "code",
   "execution_count": 150,
   "metadata": {},
   "outputs": [
    {
     "data": {
      "text/plain": [
       "ClientID\n",
       "ACT2520099    0.333333\n",
       "ACT2525506    0.400000\n",
       "ACT2550291    0.500000\n",
       "ACT2550501    0.333333\n",
       "ACT2550718    1.000000\n",
       "Name: SettledFlag, dtype: float64"
      ]
     },
     "execution_count": 150,
     "metadata": {},
     "output_type": "execute_result"
    }
   ],
   "source": [
    "'''this is The ratio for every client of Settled accounts and total accounts\n",
    "    if client has Subscription Product'''\n",
    "sub_df=data[(data['Subscription Product']==1)].groupby(['ClientID'])['SettledFlag'].sum()/data[(data['Subscription Product']==1)].groupby(['ClientID'])['SettledFlag'].count()\n",
    "sub_df.head()"
   ]
  },
  {
   "cell_type": "code",
   "execution_count": 144,
   "metadata": {},
   "outputs": [
    {
     "data": {
      "text/plain": [
       "0.21097487696025116"
      ]
     },
     "execution_count": 144,
     "metadata": {},
     "output_type": "execute_result"
    }
   ],
   "source": [
    "#The rate for all clients if they Subscribe in product\n",
    "sub_df.sum()/len(sub_df)"
   ]
  },
  {
   "cell_type": "markdown",
   "metadata": {},
   "source": [
    "After obtain The rate of Settled accounts if clients Subscribe in product.\n",
    "\n",
    "We will do the same thing with data of clients have not Subscription Product."
   ]
  },
  {
   "cell_type": "code",
   "execution_count": 151,
   "metadata": {},
   "outputs": [
    {
     "data": {
      "text/plain": [
       "ClientID\n",
       "ACT2545833    0.333333\n",
       "ACT2550900    0.000000\n",
       "ACT2555427    1.000000\n",
       "ACT2557041    0.000000\n",
       "ACT2559728    1.000000\n",
       "Name: SettledFlag, dtype: float64"
      ]
     },
     "execution_count": 151,
     "metadata": {},
     "output_type": "execute_result"
    }
   ],
   "source": [
    "'''this is The ratio for every client of Settled accounts and total accounts\n",
    "    if client has not Subscription Product'''\n",
    "not_sub_df=data[(data['Subscription Product']==0)].groupby(['ClientID'])['SettledFlag'].sum()/data[(data['Subscription Product']==0)].groupby(['ClientID'])['SettledFlag'].count()\n",
    "not_sub_df.head()"
   ]
  },
  {
   "cell_type": "code",
   "execution_count": 152,
   "metadata": {},
   "outputs": [
    {
     "data": {
      "text/plain": [
       "0.2358499205380065"
      ]
     },
     "execution_count": 152,
     "metadata": {},
     "output_type": "execute_result"
    }
   ],
   "source": [
    "#The rate for all users if they not Subscribe in product\n",
    "not_sub_df.sum()/len(not_sub_df)"
   ]
  },
  {
   "cell_type": "markdown",
   "metadata": {},
   "source": [
    "Form the above data, we see that the rate of Settled accounts not changed if client has or not has Subscription Product."
   ]
  },
  {
   "cell_type": "markdown",
   "metadata": {},
   "source": [
    "Conclusion\n",
    "-----------------\n",
    "•Based on the distribution of client Status, the active clients in the program are the most number of clients.\n",
    "\n",
    "•Although there are states that have more number of clients like, CA in the most state in number of clients, followed by TX,NY and FL. But the distribution of clients Status in every state is nearly the same.\n",
    "\n",
    "•The number of accounts that have been not settled is much more the accounts that have been settled.\n",
    "\n",
    "•The number of acounts that are not subscribe in this program and have been settled is bigger. And The rate of Settled accounts not changed if client has or not has Subscription Product. So may be this program is not very beneficial to customers.\n",
    "\n",
    "•As we see in the above graph see us Subscription in Product reduce number of Client left the program but with low rate. And this may be beneficial to Freedom Financial.\n",
    "\n",
    "•As the product is not affect on the rate of account to be Settled, We don't recommend clients to subscribe in it, Although the product have some beneficial to Freedom Financial."
   ]
  }
 ],
 "metadata": {
  "kernelspec": {
   "display_name": "Python 3",
   "language": "python",
   "name": "python3"
  },
  "language_info": {
   "codemirror_mode": {
    "name": "ipython",
    "version": 3
   },
   "file_extension": ".py",
   "mimetype": "text/x-python",
   "name": "python",
   "nbconvert_exporter": "python",
   "pygments_lexer": "ipython3",
   "version": "3.6.8"
  }
 },
 "nbformat": 4,
 "nbformat_minor": 2
}
